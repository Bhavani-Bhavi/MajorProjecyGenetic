{
 "cells": [
  {
   "cell_type": "code",
   "execution_count": 24,
   "id": "49e99696",
   "metadata": {},
   "outputs": [],
   "source": [
    "import matplotlib.pyplot as plt \n",
    "from sklearn.model_selection import train_test_split\n",
    "from sklearn.metrics import accuracy_score\n",
    "import numpy as np\n",
    "import pandas as pd\n",
    "from sklearn.naive_bayes import MultinomialNB\n",
    "import time \n",
    "import sklearn"
   ]
  },
  {
   "cell_type": "code",
   "execution_count": 25,
   "id": "0e3644e5",
   "metadata": {},
   "outputs": [],
   "source": [
    "global filename\n",
    "global train\n",
    "global svm_acc,svmga_acc,rf_acc,dt_acc,pca_acc,nba_acc\n",
    "global X_train,X_test,y_train,y_test,X\n",
    "global svmga_classifier\n",
    "global svm_time,svmga_time,rf_time,dt_time,pca_time,nb_time\n",
    "global svm_cls,svmga_cls,rf_cls,dt_cls,pca_cls,nb_cls\n",
    "global dataset"
   ]
  },
  {
   "cell_type": "code",
   "execution_count": 26,
   "id": "fdf4b860",
   "metadata": {},
   "outputs": [
    {
     "data": {
      "text/plain": [
       "Index(['diseaseId', 'geneId', 'geneSymbol', 'DSI', 'DPI', 'diseaseName',\n",
       "       'diseaseType', 'diseaseClass', 'diseaseSemanticType', 'score', 'EI',\n",
       "       'Gene_Description', 'PsychiatricDisorder', 'diseaseClassNameMSH',\n",
       "       'doClassId', 'doClassName', 'umlsSemanticTypeId',\n",
       "       'umlsSemanticTypeName', 'HGNC.ID', 'Approved.name', 'Ensembl.gene.ID'],\n",
       "      dtype='object')"
      ]
     },
     "execution_count": 26,
     "metadata": {},
     "output_type": "execute_result"
    }
   ],
   "source": [
    "filename=\"C:/Users/Bhavani/Downloads/GEO.csv\"\n",
    "dataset=pd.read_csv(filename)\n",
    "dataset.columns\n"
   ]
  },
  {
   "cell_type": "code",
   "execution_count": 27,
   "id": "b748983a",
   "metadata": {},
   "outputs": [],
   "source": [
    "def prepareDataset():\n",
    "\n",
    "    global X_train, X_test, y_train, y_test\n",
    "\n",
    "    global dataset\n",
    "\n",
    "    global X\n",
    "    filename=\"C:/Users/Bhavani/Downloads/GEO.csv\"\n",
    "    dataset=pd.read_csv(filename)\n",
    "\n",
    "    #Dropping unwanted columns\n",
    "\n",
    "    dataset=dataset.drop(['diseaseId', 'geneId', 'geneSymbol', 'HGNC.ID', 'Approved.name', 'Ensembl.gene.ID','umlsSemanticTypeId','umlsSemanticTypeName'],axis=1)\n",
    "    dataset=dataset.drop(['doClassId', 'doClassName'], axis = 1) \n",
    "\n",
    "    dataset['diseaseName']= dataset['diseaseName'].astype('category')\n",
    "\n",
    "    dataset['diseaseType']= dataset['diseaseType'].astype('category')\n",
    "    dataset['diseaseClass']= dataset['diseaseClass'].astype('category')\n",
    "\n",
    "    dataset['diseaseSemanticType']= dataset['diseaseSemanticType'].astype('category') \n",
    "    dataset['Gene_Description']= dataset['Gene_Description'].astype('category')\n",
    "\n",
    "    dataset['diseaseClassNameMSH']= dataset['diseaseClassNameMSH'].astype('category')\n",
    "    dataset['PsychiatricDisorder'] = dataset['PsychiatricDisorder'].astype('category')\n",
    "\n",
    "    #Changing all the str type data to integer type for prediction using cat.codes\n",
    "    dataset['diseaseName']=dataset['diseaseName'].cat.codes\n",
    "\n",
    "    dataset['diseaseType']=dataset['diseaseType'].cat.codes\n",
    "    dataset['diseaseClass']=dataset['diseaseClass'].cat.codes\n",
    "\n",
    "    dataset['diseaseSemanticType']=dataset['diseaseSemanticType'].cat.codes\n",
    "    dataset['Gene_Description']=dataset['Gene_Description'].cat.codes\n",
    "\n",
    "    dataset['diseaseClassNameMSH']=dataset['diseaseClassNameMSH'].cat.codes\n",
    "\n",
    "    #Defining label and attributes\n",
    "\n",
    "    X = dataset.drop('PsychiatricDisorder', axis=1)\n",
    "\n",
    "    Y = dataset['PsychiatricDisorder']\n",
    "    X_train,X_test,y_train,y_test=train_test_split(X,Y,test_size=0.25,random_state=0)            "
   ]
  },
  {
   "cell_type": "code",
   "execution_count": 28,
   "id": "189a752d",
   "metadata": {},
   "outputs": [
    {
     "data": {
      "text/plain": [
       "Index(['DSI', 'DPI', 'diseaseName', 'diseaseType', 'diseaseClass',\n",
       "       'diseaseSemanticType', 'score', 'EI', 'Gene_Description',\n",
       "       'PsychiatricDisorder', 'diseaseClassNameMSH'],\n",
       "      dtype='object')"
      ]
     },
     "execution_count": 28,
     "metadata": {},
     "output_type": "execute_result"
    }
   ],
   "source": [
    "prepareDataset()\n",
    "dataset.columns"
   ]
  },
  {
   "cell_type": "code",
   "execution_count": 29,
   "id": "136ac5aa",
   "metadata": {},
   "outputs": [
    {
     "data": {
      "text/plain": [
       "DSI                     float64\n",
       "DPI                     float64\n",
       "diseaseName                int8\n",
       "diseaseType                int8\n",
       "diseaseClass               int8\n",
       "diseaseSemanticType        int8\n",
       "score                   float64\n",
       "EI                      float64\n",
       "Gene_Description           int8\n",
       "PsychiatricDisorder    category\n",
       "diseaseClassNameMSH        int8\n",
       "dtype: object"
      ]
     },
     "execution_count": 29,
     "metadata": {},
     "output_type": "execute_result"
    }
   ],
   "source": [
    "dataset.dtypes"
   ]
  },
  {
   "cell_type": "code",
   "execution_count": 30,
   "id": "bffdb235",
   "metadata": {},
   "outputs": [],
   "source": [
    "import matplotlib.pyplot as plt \n",
    "from sklearn.model_selection import train_test_split\n",
    "from sklearn.metrics import accuracy_score\n",
    "import numpy as np\n",
    "import pandas as pd\n",
    "from sklearn.naive_bayes import MultinomialNB\n",
    "import time \n",
    "import sklearn"
   ]
  },
  {
   "cell_type": "code",
   "execution_count": 31,
   "id": "76792bf0",
   "metadata": {},
   "outputs": [],
   "source": [
    "def mnbClassifier():\n",
    "\n",
    "    global nb_acc\n",
    "\n",
    "    global nb_time\n",
    "\n",
    "    global nb_cls\n",
    "\n",
    "    start_time=time.time()\n",
    "\n",
    "    nb_cls=MultinomialNB()\n",
    "\n",
    "    nb_cls.fit(X_train, y_train)\n",
    "\n",
    "    y_pred=nb_cls.predict(X_test)\n",
    "\n",
    "    nb_acc=accuracy_score(y_test, y_pred)*100\n",
    "\n",
    "    nb_time= (time.time() - start_time)"
   ]
  },
  {
   "cell_type": "code",
   "execution_count": 32,
   "id": "fd998dac",
   "metadata": {},
   "outputs": [
    {
     "name": "stdout",
     "output_type": "stream",
     "text": [
      "Accuracy: 81.0229799851742\n",
      "Execution time: 0.032759666442871094\n"
     ]
    }
   ],
   "source": [
    "mnbClassifier()\n",
    "print(\"Accuracy:\", nb_acc)\n",
    "print(\"Execution time:\", nb_time)"
   ]
  },
  {
   "cell_type": "code",
   "execution_count": 33,
   "id": "84860b10",
   "metadata": {},
   "outputs": [
    {
     "name": "stdout",
     "output_type": "stream",
     "text": [
      "        DSI    DPI  diseaseName  diseaseType  diseaseClass  \\\n",
      "4430  0.656  0.448            5            0             5   \n",
      "\n",
      "      diseaseSemanticType  score   EI  Gene_Description  diseaseClassNameMSH  \n",
      "4430                    1    0.4  1.0                15                    3  \n",
      "DEPRESSIVE DISORDERS\n"
     ]
    }
   ],
   "source": [
    "temp=X_test.loc[[4430]]\n",
    "print (temp)\n",
    "testprediction=nb_cls.predict(temp)\n",
    "print (testprediction[0])"
   ]
  },
  {
   "cell_type": "code",
   "execution_count": 34,
   "id": "4efd8338",
   "metadata": {},
   "outputs": [],
   "source": [
    "import matplotlib.pyplot as plt \n",
    "from sklearn.model_selection import train_test_split\n",
    "from sklearn.metrics import accuracy_score\n",
    "import numpy as np\n",
    "import pandas as pd\n",
    "from sklearn.naive_bayes import MultinomialNB\n",
    "from sklearn.neighbors import KNeighborsClassifier\n",
    "import time \n",
    "import sklearn"
   ]
  },
  {
   "cell_type": "code",
   "execution_count": 35,
   "id": "cc42c448",
   "metadata": {},
   "outputs": [],
   "source": [
    "def KnnClassifier():\n",
    "    global knn_acc\n",
    "    global knn_time\n",
    "    global knn_cls\n",
    "    start_time=time.time()\n",
    "    knn_cls=KNeighborsClassifier(n_neighbors=10,)\n",
    "    knn_cls.fit(X_train,y_train)\n",
    "    y_pred=knn_cls.predict(X_test)\n",
    "    knn_acc=accuracy_score(y_test,y_pred)*100\n",
    "    knn_time=(time.time()-start_time)"
   ]
  },
  {
   "cell_type": "code",
   "execution_count": 36,
   "id": "4c61fd70",
   "metadata": {
    "scrolled": true
   },
   "outputs": [
    {
     "name": "stdout",
     "output_type": "stream",
     "text": [
      "Accuracy: 98.96219421793921\n",
      "Execution time: 0.14487218856811523\n"
     ]
    }
   ],
   "source": [
    "KnnClassifier()\n",
    "print(\"Accuracy:\", knn_acc)\n",
    "print(\"Execution time:\", knn_time)"
   ]
  },
  {
   "cell_type": "code",
   "execution_count": 37,
   "id": "993dbee5",
   "metadata": {},
   "outputs": [
    {
     "name": "stdout",
     "output_type": "stream",
     "text": [
      "        DSI    DPI  diseaseName  diseaseType  diseaseClass  \\\n",
      "3801  0.648  0.655            5            0             5   \n",
      "\n",
      "      diseaseSemanticType  score   EI  Gene_Description  diseaseClassNameMSH  \n",
      "3801                    1   0.01  1.0                 6                    3  \n",
      "DEPRESSIVE DISORDERS\n"
     ]
    }
   ],
   "source": [
    "temp=X_test.loc[[3801]]\n",
    "print (temp)\n",
    "testprediction=knn_cls.predict(temp)\n",
    "print (testprediction[0])"
   ]
  },
  {
   "cell_type": "code",
   "execution_count": 38,
   "id": "5c5b98d7",
   "metadata": {},
   "outputs": [],
   "source": [
    "import matplotlib.pyplot as plt \n",
    "from sklearn.model_selection import train_test_split\n",
    "from sklearn.metrics import accuracy_score\n",
    "import numpy as np\n",
    "import pandas as pd\n",
    "from sklearn.naive_bayes import MultinomialNB\n",
    "from sklearn.neighbors import KNeighborsClassifier\n",
    "from sklearn.ensemble import RandomForestClassifier\n",
    "import time \n",
    "import sklearn"
   ]
  },
  {
   "cell_type": "code",
   "execution_count": 39,
   "id": "27ff072f",
   "metadata": {},
   "outputs": [],
   "source": [
    "import matplotlib.pyplot as plt \n",
    "from sklearn.model_selection import train_test_split\n",
    "from sklearn.metrics import accuracy_score\n",
    "import numpy as np\n",
    "import pandas as pd\n",
    "from sklearn.naive_bayes import MultinomialNB\n",
    "from sklearn.neighbors import KNeighborsClassifier\n",
    "from sklearn.ensemble import RandomForestClassifier\n",
    "import time \n",
    "import sklearn"
   ]
  },
  {
   "cell_type": "code",
   "execution_count": 40,
   "id": "197d8433",
   "metadata": {},
   "outputs": [],
   "source": [
    "global filename\n",
    "global train\n",
    "global svm_acc,svmga_acc,rf_acc,dt_acc,pca_acc,nba_acc\n",
    "global X_train,X_test,y_train,y_test,X\n",
    "global svmga_classifier\n",
    "global svm_time,svmga_time,rf_time,dt_time,pca_time,nb_time\n",
    "global svm_cls,svmga_cls,rf_cls,dt_cls,pca_cls,nb_cls\n",
    "global dataset"
   ]
  },
  {
   "cell_type": "code",
   "execution_count": 41,
   "id": "99330128",
   "metadata": {},
   "outputs": [],
   "source": [
    "def rfClassifier():\n",
    "    global rf_acc\n",
    "    global rf_time\n",
    "    global rf_cls\n",
    "    start_time=time.time()\n",
    "    rf_cls=RandomForestClassifier(n_estimators=100,random_state=0)\n",
    "    rf_cls.fit(X_train,y_train)\n",
    "    y_pred=rf_cls.predict(X_test)\n",
    "    rf_acc=accuracy_score(y_test,y_pred)*100\n",
    "    rf_time=(time.time()-start_time)"
   ]
  },
  {
   "cell_type": "code",
   "execution_count": 42,
   "id": "ad240f5b",
   "metadata": {},
   "outputs": [
    {
     "name": "stdout",
     "output_type": "stream",
     "text": [
      "Accuracy: 98.96219421793921\n",
      "Execution time: 0.6561944484710693\n"
     ]
    }
   ],
   "source": [
    "rfClassifier()\n",
    "print(\"Accuracy:\",rf_acc)\n",
    "print(\"Execution time:\",rf_time)"
   ]
  },
  {
   "cell_type": "code",
   "execution_count": 43,
   "id": "73906584",
   "metadata": {},
   "outputs": [],
   "source": [
    "import matplotlib.pyplot as plt \n",
    "from sklearn.model_selection import train_test_split\n",
    "from sklearn.metrics import accuracy_score\n",
    "import numpy as np\n",
    "import pandas as pd\n",
    "from sklearn.naive_bayes import MultinomialNB\n",
    "from sklearn.neighbors import KNeighborsClassifier\n",
    "from sklearn.ensemble import RandomForestClassifier\n",
    "from sklearn.tree import DecisionTreeClassifier\n",
    "import time \n",
    "import sklearn"
   ]
  },
  {
   "cell_type": "code",
   "execution_count": 44,
   "id": "3e9ac922",
   "metadata": {},
   "outputs": [],
   "source": [
    "def dtClassifier():\n",
    "    global dt_acc\n",
    "    global dt_time\n",
    "    global dt_cls\n",
    "    start_time=time.time()\n",
    "    dt_cls=DecisionTreeClassifier()\n",
    "    dt_cls.fit(X_train,y_train)\n",
    "    y_pred=dt_cls.predict(X_test)\n",
    "    dt_acc=accuracy_score(y_test,y_pred)*100\n",
    "    dt_time=(time.time()-start_time)"
   ]
  },
  {
   "cell_type": "code",
   "execution_count": 45,
   "id": "049ee852",
   "metadata": {},
   "outputs": [
    {
     "name": "stdout",
     "output_type": "stream",
     "text": [
      "Accuracy: 98.66567828020756\n",
      "Execution time: 0.01246786117553711\n"
     ]
    }
   ],
   "source": [
    "dtClassifier()\n",
    "print(\"Accuracy:\",dt_acc)\n",
    "print(\"Execution time:\",dt_time)"
   ]
  },
  {
   "cell_type": "code",
   "execution_count": 46,
   "id": "054b8689",
   "metadata": {},
   "outputs": [
    {
     "name": "stdout",
     "output_type": "stream",
     "text": [
      "       DSI    DPI  diseaseName  diseaseType  diseaseClass  \\\n",
      "142  0.472  0.724           15            0             5   \n",
      "\n",
      "     diseaseSemanticType  score   EI  Gene_Description  diseaseClassNameMSH  \n",
      "142                    1   0.31  1.0                13                    3  \n",
      "SCHIZOPHRENIA SPECTRUM AND OTHER PSYCHOTIC DISORDERS\n"
     ]
    }
   ],
   "source": [
    "temp=X_test.loc[[142]]\n",
    "print (temp)\n",
    "testprediction=dt_cls.predict(temp)\n",
    "print (testprediction[0])"
   ]
  },
  {
   "cell_type": "code",
   "execution_count": 47,
   "id": "b441647d",
   "metadata": {},
   "outputs": [],
   "source": [
    "import matplotlib.pyplot as plt \n",
    "from sklearn.model_selection import train_test_split\n",
    "from sklearn.metrics import accuracy_score\n",
    "import numpy as np\n",
    "import pandas as pd\n",
    "from sklearn.naive_bayes import MultinomialNB\n",
    "from sklearn.neighbors import KNeighborsClassifier\n",
    "from sklearn.ensemble import RandomForestClassifier\n",
    "from sklearn.tree import DecisionTreeClassifier\n",
    "from sklearn import svm\n",
    "import time \n",
    "import sklearn"
   ]
  },
  {
   "cell_type": "code",
   "execution_count": 48,
   "id": "9431b0af",
   "metadata": {},
   "outputs": [],
   "source": [
    "def svmClassifier():\n",
    "    global svm_acc\n",
    "    global svm_time\n",
    "    global svm_cls\n",
    "    start_time=time.time()\n",
    "    svm_cls=svm.SVC(C=2.0,gamma='scale',kernel='rbf',random_state=2)\n",
    "    svm_cls.fit(X_train,y_train)\n",
    "    y_pred=svm_cls.predict(X_test)\n",
    "    svm_acc=accuracy_score(y_test,y_pred)*100\n",
    "    svm_time=(time.time()-start_time)"
   ]
  },
  {
   "cell_type": "code",
   "execution_count": 49,
   "id": "5c1431d1",
   "metadata": {},
   "outputs": [
    {
     "name": "stdout",
     "output_type": "stream",
     "text": [
      "Accuracy: 98.07264640474426\n",
      "Execution time: 0.8555207252502441\n"
     ]
    }
   ],
   "source": [
    "svmClassifier()\n",
    "print(\"Accuracy:\",svm_acc)\n",
    "print(\"Execution time:\",svm_time)"
   ]
  },
  {
   "cell_type": "code",
   "execution_count": 51,
   "id": "73cdc259",
   "metadata": {},
   "outputs": [
    {
     "name": "stdout",
     "output_type": "stream",
     "text": [
      "        DSI    DPI  diseaseName  diseaseType  diseaseClass  \\\n",
      "4358  0.596  0.621            5            0             5   \n",
      "3801  0.648  0.655            5            0             5   \n",
      "4430  0.656  0.448            5            0             5   \n",
      "142   0.472  0.724           15            0             5   \n",
      "2370  0.720  0.276           14            0             5   \n",
      "3637  0.494  0.724            5            0             5   \n",
      "1848  0.639  0.310            5            0             5   \n",
      "4209  0.534  0.586            5            0             5   \n",
      "\n",
      "      diseaseSemanticType  score   EI  Gene_Description  diseaseClassNameMSH  \n",
      "4358                    1   0.01  1.0                15                    3  \n",
      "3801                    1   0.01  1.0                 6                    3  \n",
      "4430                    1   0.40  1.0                15                    3  \n",
      "142                     1   0.31  1.0                13                    3  \n",
      "2370                    1   0.31  1.0                 1                    3  \n",
      "3637                    1   0.11  1.0                 6                    3  \n",
      "1848                    1   0.32  1.0                14                    3  \n",
      "4209                    1   0.01  1.0                15                    3  \n",
      "4358                                 DEPRESSIVE DISORDERS\n",
      "3801                                 DEPRESSIVE DISORDERS\n",
      "4430                                 DEPRESSIVE DISORDERS\n",
      "142     SCHIZOPHRENIA SPECTRUM AND OTHER PSYCHOTIC DIS...\n",
      "2370    SCHIZOPHRENIA SPECTRUM AND OTHER PSYCHOTIC DIS...\n",
      "3637                                 DEPRESSIVE DISORDERS\n",
      "1848              BIPOLAR DISORDERS AND RELATED DISORDERS\n",
      "4209                                 DEPRESSIVE DISORDERS\n",
      "Name: PsychiatricDisorder, dtype: category\n",
      "Categories (6, object): ['ALCOHOL USE DISORDERS', 'BIPOLAR DISORDERS AND RELATED DISORDERS', 'CANNABIS USE DISORDERS', 'COCAINE USE DISORDERS', 'DEPRESSIVE DISORDERS', 'SCHIZOPHRENIA SPECTRUM AND OTHER PSYCHOTIC DI...]\n"
     ]
    }
   ],
   "source": [
    "print(X_test.head(8))\n",
    "print(y_test.head(8))"
   ]
  },
  {
   "cell_type": "code",
   "execution_count": 54,
   "id": "cba4c999",
   "metadata": {},
   "outputs": [],
   "source": [
    "import matplotlib.pyplot as plt \n",
    "from sklearn.model_selection import train_test_split\n",
    "from sklearn.metrics import accuracy_score\n",
    "import numpy as np\n",
    "import pandas as pd\n",
    "from sklearn.metrics import classification_report\n",
    "from sklearn.metrics import confusion_matrix\n",
    "from sklearn.naive_bayes import MultinomialNB\n",
    "from sklearn.neighbors import KNeighborsClassifier\n",
    "from sklearn.ensemble import RandomForestClassifier\n",
    "from sklearn.tree import DecisionTreeClassifier\n",
    "from sklearn import svm\n",
    "import time \n",
    "import sklearn"
   ]
  },
  {
   "cell_type": "code",
   "execution_count": 55,
   "id": "03e4dbd2",
   "metadata": {},
   "outputs": [],
   "source": [
    "def cal_accuracy(y_test,y_pred,details):\n",
    "    cm=confusion_matrix(y_test,y_pred)\n",
    "    accuracy=accuracy_score(y_test,y_pred)*100\n",
    "    text.insert(END,details+\"\\n\\n\")\n",
    "    text.insert(END,\"Accuracy:\"+str(accuracy)+\"\\n\\n\")\n",
    "    text.insert(END,\"Report:\"+str(classification_report(y_test,y_pred))+\"\\n\")\n",
    "    text.insert(END,\"Confusion Matrix:\\n\\n\"+str(cm)+\"\\n\\n\\n\\n\\n\")\n",
    "    return accuracy"
   ]
  },
  {
   "cell_type": "code",
   "execution_count": 79,
   "id": "f207d321",
   "metadata": {},
   "outputs": [],
   "source": [
    "def runSVM():\n",
    "    text.delete('1.0',END)\n",
    "    svmClassifier()\n",
    "    prediction_data=svm_cls.predict(X_test)\n",
    "    svm_acc=cal_accuracy(y_test,prediction_data,\"SVM:\")"
   ]
  },
  {
   "cell_type": "code",
   "execution_count": 80,
   "id": "9563de70",
   "metadata": {},
   "outputs": [],
   "source": [
    "def runRF():\n",
    "    text.delete('1.0',END)\n",
    "    rfClassifier()\n",
    "    prediction_data=rf_cls.predict(X_test)\n",
    "    rf_acc=cal_accuracy(y_test,prediction_data,\"Random Forest:\")"
   ]
  },
  {
   "cell_type": "code",
   "execution_count": 81,
   "id": "eed90290",
   "metadata": {},
   "outputs": [],
   "source": [
    "def runDT():\n",
    "    text.delete('1.0',END)\n",
    "    dtClassifier()\n",
    "    prediction_data=dt_cls.predict(X_test)\n",
    "    dt_acc=cal_accuracy(y_test,prediction_data,\"Decision Tree:\")"
   ]
  },
  {
   "cell_type": "code",
   "execution_count": 89,
   "id": "c131f415",
   "metadata": {},
   "outputs": [],
   "source": [
    "def runKNN():\n",
    "    text.delete('1.0',END)\n",
    "    KnnClassifier()\n",
    "    prediction_data=knn_cls.predict(X_test)\n",
    "    knn_acc=cal_accuracy(y_test,prediction_data,\"KNN:\")"
   ]
  },
  {
   "cell_type": "code",
   "execution_count": 96,
   "id": "4083e4ab",
   "metadata": {},
   "outputs": [],
   "source": [
    "def runNB():\n",
    "    text.delete('1.0',END)\n",
    "    mnbClassifier()\n",
    "    prediction_data=nb_cls.predict(X_test)\n",
    "    mnb_acc=cal_accuracy(y_test,prediction_data,\"Naive bayes:\")"
   ]
  },
  {
   "cell_type": "code",
   "execution_count": 117,
   "id": "8560cdc8",
   "metadata": {},
   "outputs": [],
   "source": [
    "def graph():\n",
    "    height=[svm_acc,rf_acc,dt_acc,knn_acc,nb_acc]\n",
    "    bars=('SVM','Random Forest','Decision Tree','KNN','MNB')\n",
    "    y_pos=np.arange(len(bars))\n",
    "    plt.bar(y_pos,height)\n",
    "    plt.xticks(y_pos,bars,rotation=90)\n",
    "    plt.show()"
   ]
  },
  {
   "cell_type": "code",
   "execution_count": 118,
   "id": "2a08bc63",
   "metadata": {},
   "outputs": [],
   "source": [
    "def timeGraph():\n",
    "    height=[svm_time,rf_time,dt_time,knn_time,nb_time]\n",
    "    bars=('SVM','Random Forest','Decision Tree','KNN','MNB')\n",
    "    y_pos=np.arange(len(bars))\n",
    "    plt.bar(y_pos,height)\n",
    "    plt.xticks(y_pos,bars,rotation=90)\n",
    "    plt.show()\n",
    "    "
   ]
  },
  {
   "cell_type": "code",
   "execution_count": 119,
   "id": "06b781e8",
   "metadata": {},
   "outputs": [],
   "source": [
    "def upload():\n",
    "    global filename\n",
    "    filename=filedialog.askopenfilename(initialdir=\"dataset\")\n",
    "    pathlabel.config(text=filename)\n",
    "    text.delete('1.0',END)\n",
    "    text.insert(END,filename+\"loaded\\n\");"
   ]
  },
  {
   "cell_type": "code",
   "execution_count": 120,
   "id": "10c3df60",
   "metadata": {},
   "outputs": [],
   "source": [
    "def generateDataset():\n",
    "    text.delete('1.0',END)\n",
    "    prepareDataset()\n",
    "    text.insert(END,\"Dataset Length:\"+str(len(X))+\"\\n\");\n",
    "    text.insert(END,\"Splitted Training Length:\"+str(len(X_train))+\"\\n\");\n",
    "    text.insert(END,\"Splitted Test Length:\"+str(len(X_test))+\"\\n\\n\");\n",
    "    "
   ]
  },
  {
   "cell_type": "code",
   "execution_count": 123,
   "id": "d435839f",
   "metadata": {},
   "outputs": [
    {
     "name": "stderr",
     "output_type": "stream",
     "text": [
      "C:\\Users\\Bhavani\\anaconda3\\lib\\site-packages\\sklearn\\metrics\\_classification.py:1245: UndefinedMetricWarning: Precision and F-score are ill-defined and being set to 0.0 in labels with no predicted samples. Use `zero_division` parameter to control this behavior.\n",
      "  _warn_prf(average, modifier, msg_start, len(result))\n",
      "C:\\Users\\Bhavani\\anaconda3\\lib\\site-packages\\sklearn\\metrics\\_classification.py:1245: UndefinedMetricWarning: Precision and F-score are ill-defined and being set to 0.0 in labels with no predicted samples. Use `zero_division` parameter to control this behavior.\n",
      "  _warn_prf(average, modifier, msg_start, len(result))\n",
      "C:\\Users\\Bhavani\\anaconda3\\lib\\site-packages\\sklearn\\metrics\\_classification.py:1245: UndefinedMetricWarning: Precision and F-score are ill-defined and being set to 0.0 in labels with no predicted samples. Use `zero_division` parameter to control this behavior.\n",
      "  _warn_prf(average, modifier, msg_start, len(result))\n"
     ]
    },
    {
     "data": {
      "image/png": "[encoded data removed]",
      "text/plain": [
       "<Figure size 432x288 with 1 Axes>"
      ]
     },
     "metadata": {
      "needs_background": "light"
     },
     "output_type": "display_data"
    },
    {
     "data": {
      "image/png": "[encoded data removed]",
      "text/plain": [
       "<Figure size 432x288 with 1 Axes>"
      ]
     },
     "metadata": {
      "needs_background": "light"
     },
     "output_type": "display_data"
    }
   ],
   "source": [
    "from tkinter import messagebox\n",
    "from tkinter import *\n",
    "from tkinter import simpledialog\n",
    "import tkinter\n",
    "from tkinter import filedialog\n",
    "from tkinter.filedialog import askopenfilename\n",
    "\n",
    "\n",
    "main=tkinter.Tk()\n",
    "main.title(\"Risk analysis on genetic diseases\")\n",
    "#main.geometry(\"13001200\")\n",
    "main.configure(background='#b8b5ff')\n",
    "\n",
    "font=('times',20,'bold')\n",
    "title=Label(main,text='ML Approach for Risk Analysis on Genetic Disease',fg='red',bg='#b8b5ff')\n",
    "font1=('times',14,'bold')\n",
    "uploadButton=Button(main,text=\"Upload Dataset\",command=upload,bg='blue',fg='white')\n",
    "uploadButton.config(font=font1)\n",
    "\n",
    "pathlabel=Label(main)\n",
    "pathlabel.config(bg='brown',fg='white')\n",
    "pathlabel.config(font=font1)\n",
    "pathlabel.place(x=460,y=100)\n",
    "\n",
    "generateButton=Button(main,text=\"Generate Train and Test dataset\",command=generateDataset,bg='#77d6fd')\n",
    "generateButton.place(x=50,y=150)\n",
    "generateButton.config(font=font1)\n",
    "\n",
    "svmButton=Button(main,text=\"Run SVM Algorithm\",command=runSVM,bg='#77d6fd')\n",
    "svmButton.place(x=340,y=150)\n",
    "svmButton.config(font=font1)\n",
    "\n",
    "rfButton=Button(main,text=\"Run Random Forest Algorithm\",command=runRF,bg='#77d6fd')\n",
    "rfButton.place(x=540,y=150)\n",
    "rfButton.config(font=font1)\n",
    "\n",
    "dtButton=Button(main,text=\"Run Decision Tree Algorithm\",command=runDT,bg='#77d6fd')\n",
    "dtButton.place(x=50,y=200)\n",
    "dtButton.config(font=font1)\n",
    "\n",
    "knnButton=Button(main,text=\"Run KNN Algorothm\",command=runKNN,bg='#77d6fd')\n",
    "knnButton.place(x=330,y=200)\n",
    "knnButton.config(font=font1)\n",
    "\n",
    "nbButton=Button(main,text=\"Run MNB Algorithm\",command=runNB,bg='#77d6fd')\n",
    "nbButton.place(x=540,y=200)\n",
    "nbButton.config(font=font1)\n",
    "\n",
    "graphButton=Button(main,text=\"Accuracy Graph\",command=graph,bg='#77d6fd')\n",
    "graphButton.place(x=770,y=200)\n",
    "graphButton.config(font=font1)\n",
    "\n",
    "exitButton=Button(main,text=\"Time Graph\",command=timeGraph,bg='#77d6fd')\n",
    "exitButton.place(x=970,y=200)\n",
    "exitButton.config(font=font1)\n",
    "\n",
    "\n",
    "\n",
    "font1=('times',12,'bold')\n",
    "text=Text(main,height=20,width=150)\n",
    "scroll=Scrollbar(text)\n",
    "text.configure(yscrollcommand=scroll.set)\n",
    "text.place(x=10,y=250)\n",
    "text.config(font=font1)\n",
    "main.mainloop()\n",
    "\n",
    "\n",
    "\n",
    "\n",
    "\n"
   ]
  },
  {
   "cell_type": "code",
   "execution_count": null,
   "id": "5b85f0a6",
   "metadata": {},
   "outputs": [],
   "source": []
  }
 ],
 "metadata": {
  "kernelspec": {
   "display_name": "Python 3",
   "language": "python",
   "name": "python3"
  },
  "language_info": {
   "codemirror_mode": {
    "name": "ipython",
    "version": 3
   },
   "file_extension": ".py",
   "mimetype": "text/x-python",
   "name": "python",
   "nbconvert_exporter": "python",
   "pygments_lexer": "ipython3",
   "version": "3.8.8"
  }
 },
 "nbformat": 4,
 "nbformat_minor": 5
}
